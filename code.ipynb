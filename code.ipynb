import tensorflow as tf
from tensorflow import keras
from tensorflow.keras.preprocessing.image import ImageDataGenerator
import os
import cv2
import numpy as np
from tensorflow.keras.preprocessing.image import ImageDataGenerator
from tensorflow.keras.preprocessing import image
import matplotlib.pyplot as plt
train = ImageDataGenerator(rescale=1/255)
test = ImageDataGenerator(rescale=1/255)
train_dataset = train.flow_from_directory("C:/Users/Administrator/Desktop/Final year Project/archive/forest_fire/Training and Validation/",target_size = (150,150),batch_size = 32,class_mode = 'binary')
test_dataset = test.flow_from_directory("C:/Users/Administrator/Desktop/Final year Project/archive/forest_fire/Testing/",target_size = (150,150),batch_size = 32,class_mode = 'binary')
model = keras.Sequential()                                                                 #adding cnn
model.add(keras.layers.Conv2D(32,(3,3),activation= 'relu' ,input_shape=(150,150,3)))       #adding first layer
model.add(keras.layers.MaxPool2D(2,2))
model.add(keras.layers.Conv2D(64,(3,3),activation= 'relu' ))                               #adding second layer
model.add(keras.layers.MaxPool2D(2,2))
model.add(keras.layers.Conv2D(128,(3,3),activation= 'relu' ))                              #adding third layer
model.add(keras.layers.MaxPool2D(2,2))
model.add(keras.layers.Conv2D(256,(3,3),activation= 'relu' ))                              #adding fourth layer
model.add(keras.layers.MaxPool2D(2,2))
model.add(keras.layers.Flatten())                                                           #flattening
model.add(keras.layers.Dense(256,activation='relu'))                                       #output layer
model.add(keras.layers.Dense(1,activation='sigmoid'))
model.compile(optimizer='adam',loss='binary_crossentropy',metrics=['accuracy'])
r=model.fit(train_dataset,epochs=5,validation_data=test_dataset)
predictions=model.predict(test_dataset)
predictions=np.round(predictions)
predictions
def predictImage(filename):
    img1=image.load_img(filename,target_size=(150,150))
    plt.imshow(img1)
    Y=image.img_to_array(img1)
    X=np.expand_dims(Y,axis=0)
    val=model.predict(X)
    print(val)
    if val==1:
        plt.xlabel("NO FIRE",fontsize=30)
    elif val==0:
        plt.xlabel("FIRE!",fontsize=30)
predictImage("C:/Users/Administrator/Desktop/Final year Project/1.jpg")